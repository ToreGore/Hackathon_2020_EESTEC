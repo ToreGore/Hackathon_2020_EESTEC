{
  "cells": [
    {
      "cell_type": "code",
      "source": [
        "#!pip install transformers\n",
        "#!pip install langdetect\n",
        "\n",
        "#!pip install EmailParser\n",
        "\n",
        "import string\n",
        "import pandas as pd\n",
        "import numpy as np\n",
        "import matplotlib.pyplot as plt\n",
        "import spacy\n",
        "import re\n",
        "\n",
        "from langdetect import detect\n",
        "from langdetect import DetectorFactory\n",
        "\n"
      ],
      "outputs": [],
      "execution_count": 55,
      "metadata": {
        "gather": {
          "logged": 1605949491833
        }
      }
    },
    {
      "cell_type": "markdown",
      "source": [
        "\n",
        "## \n",
        "\n",
        "# Exploratory Data Analysis\n",
        "\n",
        "## "
      ],
      "metadata": {
        "nteract": {
          "transient": {
            "deleting": false
          }
        }
      }
    },
    {
      "cell_type": "code",
      "source": [
        "train = pd.read_csv(\"./data/train.csv\", sep=\";\")\n",
        "test = pd.read_csv(\"./data/test_reduced.csv\", sep=\";\")"
      ],
      "outputs": [],
      "execution_count": 56,
      "metadata": {
        "collapsed": true,
        "jupyter": {
          "source_hidden": false,
          "outputs_hidden": false
        },
        "nteract": {
          "transient": {
            "deleting": false
          }
        },
        "gather": {
          "logged": 1605949494748
        }
      }
    },
    {
      "cell_type": "code",
      "source": [
        "train.head()"
      ],
      "outputs": [
        {
          "output_type": "execute_result",
          "execution_count": 57,
          "data": {
            "text/plain": "   Unnamed: 0               Id             Impact Urgency     IncidentType  \\\n0        3554  INC000010587669  4-Minor/Localized  2-High          Failure   \n1        3553  INC000010585556  4-Minor/Localized   4-Low  Service Request   \n2        3552  INC000010585519  4-Minor/Localized   4-Low          Failure   \n3        3549  INC000010582950  4-Minor/Localized   4-Low  Service Request   \n4        3548  INC000010582919  4-Minor/Localized   4-Low  Service Request   \n\n              ServiceProcessed  \\\n0                 EDA_S_BA_2FA   \n1       EDA_S_Order Management   \n2       EDA_S_Peripheriegeräte   \n3  EDA_S_Benutzerunterstützung   \n4       EDA_S_Order Management   \n\n                                         MailSubject  \\\n0  smart card blockiert MD5:2225e4a30a5b7e592ba34...   \n1    FW: Webcam MD5:f757a42a9bdb1dfd9c8427e588586ca8   \n2  FW: IT Support heute Nachmittag MD5:bc594d6bfd...   \n3  Botschaft Warschau -  Administratoren-Zugang f...   \n4  FW: Commande d'un écran MD5:c2b8cb3281fed4e2d4...   \n\n                                        MailTextBody  \\\n0  lieber helpdesk  sie haben mir den computer fr...   \n1  liebe kolleginnen und kollegen  ich möchte für...   \n2  liebe kolleginnen und kollegen  es handelt sic...   \n3  sehr geehrte damen und herren,  die botschaft ...   \n4  liebe kolleginnen und kollegen  ich möchte für...   \n\n                    ManualGroups  \n0                            NaN  \n1                            NaN  \n2                            NaN  \n3  Benutzeranleitungen_Telefonie  \n4                            NaN  ",
            "text/html": "<div>\n<style scoped>\n    .dataframe tbody tr th:only-of-type {\n        vertical-align: middle;\n    }\n\n    .dataframe tbody tr th {\n        vertical-align: top;\n    }\n\n    .dataframe thead th {\n        text-align: right;\n    }\n</style>\n<table border=\"1\" class=\"dataframe\">\n  <thead>\n    <tr style=\"text-align: right;\">\n      <th></th>\n      <th>Unnamed: 0</th>\n      <th>Id</th>\n      <th>Impact</th>\n      <th>Urgency</th>\n      <th>IncidentType</th>\n      <th>ServiceProcessed</th>\n      <th>MailSubject</th>\n      <th>MailTextBody</th>\n      <th>ManualGroups</th>\n    </tr>\n  </thead>\n  <tbody>\n    <tr>\n      <th>0</th>\n      <td>3554</td>\n      <td>INC000010587669</td>\n      <td>4-Minor/Localized</td>\n      <td>2-High</td>\n      <td>Failure</td>\n      <td>EDA_S_BA_2FA</td>\n      <td>smart card blockiert MD5:2225e4a30a5b7e592ba34...</td>\n      <td>lieber helpdesk  sie haben mir den computer fr...</td>\n      <td>NaN</td>\n    </tr>\n    <tr>\n      <th>1</th>\n      <td>3553</td>\n      <td>INC000010585556</td>\n      <td>4-Minor/Localized</td>\n      <td>4-Low</td>\n      <td>Service Request</td>\n      <td>EDA_S_Order Management</td>\n      <td>FW: Webcam MD5:f757a42a9bdb1dfd9c8427e588586ca8</td>\n      <td>liebe kolleginnen und kollegen  ich möchte für...</td>\n      <td>NaN</td>\n    </tr>\n    <tr>\n      <th>2</th>\n      <td>3552</td>\n      <td>INC000010585519</td>\n      <td>4-Minor/Localized</td>\n      <td>4-Low</td>\n      <td>Failure</td>\n      <td>EDA_S_Peripheriegeräte</td>\n      <td>FW: IT Support heute Nachmittag MD5:bc594d6bfd...</td>\n      <td>liebe kolleginnen und kollegen  es handelt sic...</td>\n      <td>NaN</td>\n    </tr>\n    <tr>\n      <th>3</th>\n      <td>3549</td>\n      <td>INC000010582950</td>\n      <td>4-Minor/Localized</td>\n      <td>4-Low</td>\n      <td>Service Request</td>\n      <td>EDA_S_Benutzerunterstützung</td>\n      <td>Botschaft Warschau -  Administratoren-Zugang f...</td>\n      <td>sehr geehrte damen und herren,  die botschaft ...</td>\n      <td>Benutzeranleitungen_Telefonie</td>\n    </tr>\n    <tr>\n      <th>4</th>\n      <td>3548</td>\n      <td>INC000010582919</td>\n      <td>4-Minor/Localized</td>\n      <td>4-Low</td>\n      <td>Service Request</td>\n      <td>EDA_S_Order Management</td>\n      <td>FW: Commande d'un écran MD5:c2b8cb3281fed4e2d4...</td>\n      <td>liebe kolleginnen und kollegen  ich möchte für...</td>\n      <td>NaN</td>\n    </tr>\n  </tbody>\n</table>\n</div>"
          },
          "metadata": {}
        }
      ],
      "execution_count": 57,
      "metadata": {
        "collapsed": true,
        "jupyter": {
          "source_hidden": false,
          "outputs_hidden": false
        },
        "nteract": {
          "transient": {
            "deleting": false
          }
        },
        "gather": {
          "logged": 1605949496775
        }
      }
    },
    {
      "cell_type": "code",
      "source": [
        "train = train[[\"Id\", \"Urgency\", \"IncidentType\", \"MailSubject\", \"MailTextBody\", \"ServiceProcessed\"]]"
      ],
      "outputs": [],
      "execution_count": 58,
      "metadata": {
        "collapsed": true,
        "jupyter": {
          "source_hidden": false,
          "outputs_hidden": false
        },
        "nteract": {
          "transient": {
            "deleting": false
          }
        },
        "gather": {
          "logged": 1605949502290
        }
      }
    },
    {
      "cell_type": "code",
      "source": [
        "plt.pie(train[\"ServiceProcessed\"].value_counts(), labels=train[\"ServiceProcessed\"].value_counts().keys() )"
      ],
      "outputs": [
        {
          "output_type": "execute_result",
          "execution_count": 59,
          "data": {
            "text/plain": "([<matplotlib.patches.Wedge at 0x7f36ec0547b8>,\n  <matplotlib.patches.Wedge at 0x7f373416d2e8>,\n  <matplotlib.patches.Wedge at 0x7f36ca79b320>,\n  <matplotlib.patches.Wedge at 0x7f36ec487518>,\n  <matplotlib.patches.Wedge at 0x7f370c2b6c18>,\n  <matplotlib.patches.Wedge at 0x7f372415c4e0>,\n  <matplotlib.patches.Wedge at 0x7f37341b16d8>,\n  <matplotlib.patches.Wedge at 0x7f3734237e10>,\n  <matplotlib.patches.Wedge at 0x7f37342372b0>,\n  <matplotlib.patches.Wedge at 0x7f37242984e0>,\n  <matplotlib.patches.Wedge at 0x7f36ca9d4c50>,\n  <matplotlib.patches.Wedge at 0x7f36caa89d68>,\n  <matplotlib.patches.Wedge at 0x7f36ca6ca8d0>,\n  <matplotlib.patches.Wedge at 0x7f36ca6ca978>,\n  <matplotlib.patches.Wedge at 0x7f36ca6c4710>,\n  <matplotlib.patches.Wedge at 0x7f36ca6c4a58>,\n  <matplotlib.patches.Wedge at 0x7f36ca6c4240>,\n  <matplotlib.patches.Wedge at 0x7f36ca6c3e80>,\n  <matplotlib.patches.Wedge at 0x7f36ca6c3780>,\n  <matplotlib.patches.Wedge at 0x7f36ca9fb630>,\n  <matplotlib.patches.Wedge at 0x7f36ca9fbac8>,\n  <matplotlib.patches.Wedge at 0x7f36ca9fb400>,\n  <matplotlib.patches.Wedge at 0x7f36ca9f6e10>,\n  <matplotlib.patches.Wedge at 0x7f36ca9f6860>,\n  <matplotlib.patches.Wedge at 0x7f36ca9f60f0>,\n  <matplotlib.patches.Wedge at 0x7f36ca9f0898>,\n  <matplotlib.patches.Wedge at 0x7f36ca9f2a20>,\n  <matplotlib.patches.Wedge at 0x7f36ca9f20f0>,\n  <matplotlib.patches.Wedge at 0x7f36ca9f2470>,\n  <matplotlib.patches.Wedge at 0x7f36ca8b6940>,\n  <matplotlib.patches.Wedge at 0x7f3734184470>,\n  <matplotlib.patches.Wedge at 0x7f3735d71898>,\n  <matplotlib.patches.Wedge at 0x7f373401d9b0>,\n  <matplotlib.patches.Wedge at 0x7f373401db70>,\n  <matplotlib.patches.Wedge at 0x7f373401d630>,\n  <matplotlib.patches.Wedge at 0x7f3734117160>,\n  <matplotlib.patches.Wedge at 0x7f37341177f0>,\n  <matplotlib.patches.Wedge at 0x7f3734117630>,\n  <matplotlib.patches.Wedge at 0x7f37d9d51f60>,\n  <matplotlib.patches.Wedge at 0x7f37d9d2b828>,\n  <matplotlib.patches.Wedge at 0x7f37d9d6c780>,\n  <matplotlib.patches.Wedge at 0x7f36ca8a4be0>,\n  <matplotlib.patches.Wedge at 0x7f36ca8b3d68>,\n  <matplotlib.patches.Wedge at 0x7f36ca8b36a0>,\n  <matplotlib.patches.Wedge at 0x7f36ca8b3da0>,\n  <matplotlib.patches.Wedge at 0x7f36ca6dc048>,\n  <matplotlib.patches.Wedge at 0x7f36ca6dcba8>,\n  <matplotlib.patches.Wedge at 0x7f36ca6dc7f0>,\n  <matplotlib.patches.Wedge at 0x7f36ca6cd390>,\n  <matplotlib.patches.Wedge at 0x7f36ca6cd0b8>,\n  <matplotlib.patches.Wedge at 0x7f36ca6cdf98>,\n  <matplotlib.patches.Wedge at 0x7f37d9b93470>,\n  <matplotlib.patches.Wedge at 0x7f37d9b93978>,\n  <matplotlib.patches.Wedge at 0x7f37d9b93e80>,\n  <matplotlib.patches.Wedge at 0x7f37d9b9e3c8>],\n [Text(1.066520535499614, 0.26932127163968556, 'EDA_S_Order Management'),\n  Text(0.8173238426353019, 0.7361940887156486, 'EDA_S_BA_Mailbox'),\n  Text(0.39713265149255617, 1.0258097567865556, 'EDA_S_APS_OS_BasisSW'),\n  Text(-0.09039127401692015, 1.0962798080698186, 'EDA_S_Mobile Kommunikation'),\n  Text(-0.5227829211061916, 0.9678316059106965, 'EDA_ANW_SysP eDoc'),\n  Text(-0.8270070888761993, 0.7252994381278083, 'EDA_S_APS_PC'),\n  Text(-1.0160930778061086, 0.42137258718918785, 'EDA_S_BA_UCC_Benutzertelefonie'),\n  Text(-1.0939529038061007, 0.11518265604769055, 'EDA_S_Netzdrucker'),\n  Text(-1.090516542126681, -0.1441307439378116, 'EDA_S_BA_2FA'),\n  Text(-1.0328749122331649, -0.37837734562118325, 'EDA_S_APS_Monitor'),\n  Text(-0.9320653410943549, -0.5841696670751264, 'EDA_ANW_Intranet/Collaboration EDA'),\n  Text(-0.8041898687507997, -0.7505189238111001, 'EDA_S_Zusätzliche Software'),\n  Text(-0.656838374520649, -0.8823623687335448, 'EDA_S_BA_Account'),\n  Text(-0.4958689267463287, -0.9818930733473193, 'EDA_S_APS_Peripherie'),\n  Text(-0.3248662630233477, -1.0509338281496343, 'EDA_S_Netzwerk Ausland'),\n  Text(-0.14593686180110665, -1.0902763101010886, 'EDA_ANW_SAP Services'),\n  Text(0.03582659606170063, -1.0994164156563389, 'EDA_S_Betrieb Übermitttlungssysteme'),\n  Text(0.21422705455167204, -1.0789377966769516, 'EDA_S_Benutzerunterstützung'),\n  Text(0.38008767143458305, -1.0322467544262062, 'EDA_S_BA_UCC_IVR'),\n  Text(0.5270527425494826, -0.9655130276547639, 'EDA_S_Peripheriegeräte'),\n  Text(0.6509779058309885, -0.8866948551333209, 'EDA_ANW_CH@World (MOSS)'),\n  Text(0.7545057785969378, -0.8004505169364493, 'EDA_S_IT Sicherheit'),\n  Text(0.8365451663146705, -0.7142773863952019, 'EDA_S_Raumbewirtschaftung'),\n  Text(0.9012027018828078, -0.6307405886092375, 'EDA_ANW_ZACWEB'),\n  Text(0.9515125429224882, -0.5519274233639601, 'EDA_S_BA_Datenablage'),\n  Text(0.9875763681521396, -0.48445115034173464, 'EDA_S_BA_RemoteAccess'),\n  Text(1.0132790009913408, -0.4280953937500269, '_Pending'),\n  Text(1.0328749100190244, -0.3783773516652289, 'EDA_S_BA_Internetzugriff'),\n  Text(1.0474680962259217, -0.3358728738508713, 'EDA_ANW_DMS Fabasoft eGov Suite'),\n  Text(1.058017984404712, -0.30099492466849154, 'EDA_S_APS'),\n  Text(1.067112730118128, -0.26696520600976387, 'EDA_S_BA_ServerAusland'),\n  Text(1.0745968015567855, -0.23503555919036298, 'EDA_ANW_ARS Remedy'),\n  Text(1.080674978769544, -0.20528416953444237, 'EDA_S_Büroautomation'),\n  Text(1.0855396527305265, -0.17777418921116722, 'EDA_ANW_MOVE!'),\n  Text(1.0893698782548507, -0.15255578766802727, 'EDA_ANW_Internet EDA'),\n  Text(1.0923306223956266, -0.12966808156513826, 'EDA_ANW_at Honorarvertretung'),\n  Text(1.094450994154061, -0.11034954188934265, 'EDA_ANW_Plato-HH'),\n  Text(1.0960260933999524, -0.09341735698701206, 'EDA_S_Netzwerk Inland'),\n  Text(1.0970799284275794, -0.08009763193339327, 'EDA_ANW_Zentrale Raumreservation EDA'),\n  Text(1.0976662826305386, -0.07161516582438973, 'EDA_ANW_FDFA Security App'),\n  Text(1.098116673476009, -0.06434105558649587, 'EDA_ANW_Office Manager'),\n  Text(1.0985188601471456, -0.057064120960687435, 'EDA_ANW_IAM Tool EDA'),\n  Text(1.0988728249891067, -0.049784681383536915, 'EDA_S_Backup & Restore'),\n  Text(1.09917855246385, -0.042503056401577, 'EDA_ANW_ITDoc Sharepoint'),\n  Text(1.0993964676224641, -0.036433596847530426, 'EDA_ANW_EDA PWC Tool'),\n  Text(1.0995466698283287, -0.031577220736354446, 'EDA_ANW_NOS:4'),\n  Text(1.0996754200153034, -0.026720228557526916, 'EDA_ANW_ORBIS'),\n  Text(1.0997827156714877, -0.02186271507035972, 'EDA_ANW_EDAssist+'),\n  Text(1.0998685547035572, -0.017004775044339306, 'EDA_ANW_EDAContacts'),\n  Text(1.0999188520448517, -0.013361097123214013, 'EDA_S_Arbeitsplatzdrucker'),\n  Text(1.0999456776045289, -0.010931894580256224, 'EDA_ANW_Zeiterfassung SAP'),\n  Text(1.099967138206794, -0.008502638717257224, 'EDA_ANW_ARIS (EDA Scout)'),\n  Text(1.0999832337469728, -0.006073341382851463, 'EDA_ANW_CodX PostOffice'),\n  Text(1.0999939641465604, -0.003644014425876644, 'EDA_ANW_eVERA'),\n  Text(1.0999993293532189, -0.0012146696953120213, 'EDA_ANW_Reisehinweise')])"
          },
          "metadata": {}
        },
        {
          "output_type": "display_data",
          "data": {
            "text/plain": "<Figure size 432x288 with 1 Axes>",
            "image/png": "[encoded data removed]"
          },
          "metadata": {}
        }
      ],
      "execution_count": 59,
      "metadata": {
        "collapsed": true,
        "jupyter": {
          "source_hidden": false,
          "outputs_hidden": false
        },
        "nteract": {
          "transient": {
            "deleting": false
          }
        },
        "gather": {
          "logged": 1605949506650
        }
      }
    },
    {
      "cell_type": "code",
      "source": [
        "plt.plot(train[\"ServiceProcessed\"].value_counts())"
      ],
      "outputs": [
        {
          "output_type": "execute_result",
          "execution_count": 60,
          "data": {
            "text/plain": "[<matplotlib.lines.Line2D at 0x7f37d97f4550>]"
          },
          "metadata": {}
        },
        {
          "output_type": "display_data",
          "data": {
            "text/plain": "<Figure size 432x288 with 1 Axes>",
            "image/png": "[encoded data removed]"
          },
          "metadata": {
            "needs_background": "light"
          }
        }
      ],
      "execution_count": 60,
      "metadata": {
        "collapsed": true,
        "jupyter": {
          "source_hidden": false,
          "outputs_hidden": false
        },
        "nteract": {
          "transient": {
            "deleting": false
          }
        },
        "gather": {
          "logged": 1605949510112
        }
      }
    },
    {
      "cell_type": "code",
      "source": [
        "print(train[\"ServiceProcessed\"].value_counts())\n",
        "print(len(train[\"ServiceProcessed\"].value_counts()))"
      ],
      "outputs": [
        {
          "output_type": "stream",
          "name": "stdout",
          "text": [
            "EDA_S_Order Management                  224\n",
            "EDA_S_BA_Mailbox                        216\n",
            "EDA_S_APS_OS_BasisSW                    208\n",
            "EDA_S_Mobile Kommunikation              201\n",
            "EDA_ANW_SysP eDoc                       173\n",
            "EDA_S_APS_PC                            149\n",
            "EDA_S_BA_UCC_Benutzertelefonie          147\n",
            "EDA_S_Netzdrucker                       114\n",
            "EDA_S_BA_2FA                            100\n",
            "EDA_S_APS_Monitor                        99\n",
            "EDA_ANW_Intranet/Collaboration EDA       90\n",
            "EDA_S_Zusätzliche Software               83\n",
            "EDA_S_BA_Account                         80\n",
            "EDA_S_APS_Peripherie                     76\n",
            "EDA_S_Netzwerk Ausland                   76\n",
            "EDA_ANW_SAP Services                     75\n",
            "EDA_S_Betrieb Übermitttlungssysteme      75\n",
            "EDA_S_Benutzerunterstützung              73\n",
            "EDA_S_BA_UCC_IVR                         69\n",
            "EDA_S_Peripheriegeräte                   64\n",
            "EDA_ANW_CH@World (MOSS)                  57\n",
            "EDA_S_IT Sicherheit                      54\n",
            "EDA_S_Raumbewirtschaftung                44\n",
            "EDA_ANW_ZACWEB                           43\n",
            "EDA_S_BA_Datenablage                     34\n",
            "EDA_S_BA_RemoteAccess                    29\n",
            "_Pending                                 22\n",
            "EDA_S_BA_Internetzugriff                 22\n",
            "EDA_ANW_DMS Fabasoft eGov Suite          15\n",
            "EDA_S_APS                                15\n",
            "EDA_S_BA_ServerAusland                   14\n",
            "EDA_ANW_ARS Remedy                       13\n",
            "EDA_S_Büroautomation                     12\n",
            "EDA_ANW_MOVE!                            11\n",
            "EDA_ANW_Internet EDA                     10\n",
            "EDA_ANW_at Honorarvertretung              9\n",
            "EDA_ANW_Plato-HH                          7\n",
            "EDA_S_Netzwerk Inland                     7\n",
            "EDA_ANW_Zentrale Raumreservation EDA      4\n",
            "EDA_ANW_FDFA Security App                 3\n",
            "EDA_ANW_Office Manager                    3\n",
            "EDA_ANW_IAM Tool EDA                      3\n",
            "EDA_S_Backup & Restore                    3\n",
            "EDA_ANW_ITDoc Sharepoint                  3\n",
            "EDA_ANW_EDA PWC Tool                      2\n",
            "EDA_ANW_NOS:4                             2\n",
            "EDA_ANW_ORBIS                             2\n",
            "EDA_ANW_EDAssist+                         2\n",
            "EDA_ANW_EDAContacts                       2\n",
            "EDA_S_Arbeitsplatzdrucker                 1\n",
            "EDA_ANW_Zeiterfassung SAP                 1\n",
            "EDA_ANW_ARIS (EDA Scout)                  1\n",
            "EDA_ANW_CodX PostOffice                   1\n",
            "EDA_ANW_eVERA                             1\n",
            "EDA_ANW_Reisehinweise                     1\n",
            "Name: ServiceProcessed, dtype: int64\n",
            "55\n"
          ]
        }
      ],
      "execution_count": 61,
      "metadata": {
        "collapsed": true,
        "jupyter": {
          "source_hidden": false,
          "outputs_hidden": false
        },
        "nteract": {
          "transient": {
            "deleting": false
          }
        },
        "gather": {
          "logged": 1605949512150
        }
      }
    },
    {
      "cell_type": "code",
      "source": [
        "# Plot label distribution of the data.\n",
        "def plot_label_distribution(df, label_name, threshold=False):\n",
        "  \"\"\"Input: Dataframe, threshold for filtering label frequency.Output: Plotting of label distribution of dataset.\"\"\" \n",
        "  label_count_dic = df[label_name].value_counts().to_dict()\n",
        "  label_list = [] # going to be x-axis\n",
        "  label_freq_list = [] # going to be y-axis\n",
        "  \n",
        "  for label, freq in zip(label_count_dic.keys(), label_count_dic.values()):\n",
        "    # If threshold applies, filter values above threshold.\n",
        "    if threshold != False: \n",
        "      if freq < threshold:\n",
        "        label_list.append((label))\n",
        "        label_freq_list.append((freq))\n",
        "    else:\n",
        "        label_list.append(label)\n",
        "        label_freq_list.append((freq))\n",
        "  # Plotting the distribution.\n",
        "  plt.figure(figsize=(20,10))\n",
        "  plt.xticks(rotation=\"vertical\", fontsize=10)\n",
        "  plt.title(\"Distribution of All Labels\") if threshold == False else plt.title(\"Label Distribution with Thresholded Labels Frequencies\")\n",
        "  plt.bar(label_list, label_freq_list)\n",
        "  return plt.show()"
      ],
      "outputs": [],
      "execution_count": 62,
      "metadata": {
        "collapsed": true,
        "jupyter": {
          "source_hidden": false,
          "outputs_hidden": false
        },
        "nteract": {
          "transient": {
            "deleting": false
          }
        },
        "gather": {
          "logged": 1605949516169
        }
      }
    },
    {
      "cell_type": "code",
      "source": [
        "plot_label_distribution(train, \"ServiceProcessed\", threshold=False)"
      ],
      "outputs": [
        {
          "output_type": "display_data",
          "data": {
            "text/plain": "<Figure size 1440x720 with 1 Axes>",
            "image/png": "[encoded data removed]"
          },
          "metadata": {
            "needs_background": "light"
          }
        }
      ],
      "execution_count": 39,
      "metadata": {
        "collapsed": true,
        "jupyter": {
          "source_hidden": false,
          "outputs_hidden": false
        },
        "nteract": {
          "transient": {
            "deleting": false
          }
        },
        "gather": {
          "logged": 1605948731242
        }
      }
    },
    {
      "cell_type": "code",
      "source": [
        "def identify_language(document):\n",
        "    return detect(document.lower())"
      ],
      "outputs": [],
      "execution_count": 63,
      "metadata": {
        "collapsed": true,
        "jupyter": {
          "source_hidden": false,
          "outputs_hidden": false
        },
        "nteract": {
          "transient": {
            "deleting": false
          }
        },
        "gather": {
          "logged": 1605949520689
        }
      }
    },
    {
      "cell_type": "code",
      "source": [
        "train[\"WholeMail\"] = train[\"MailSubject\"] + \" \" + train[\"MailTextBody\"]\n",
        "train.iloc[5][\"WholeMail\"]"
      ],
      "outputs": [
        {
          "output_type": "execute_result",
          "execution_count": 64,
          "data": {
            "text/plain": "'RichClient Photo mit Partikel MD5:3d5b8242d5f11b10ae9b90f86349b804 einen schönen guten morgen helpdesk-team,  hoffe, ihnen geht es gut und sie sind wohlauf.  heute haben wir passtermine und beim ersten termin haben wir beim aufnehmen des photos einige partikel bemerkt.  das glas haben wir nochmals mit einem screen wipe geputzt aber die partikel sind noch vorhanden.  [cid:image007.jpg@01d6ad17.93a3d8d0]  können sie uns mitteilen, woran das liegen kann oder von wo diese partikel herkommen könnte?  danke für ihre kenntnisnahme und rückmeldung.  mit freundlichen grüsse'"
          },
          "metadata": {}
        }
      ],
      "execution_count": 64,
      "metadata": {
        "collapsed": true,
        "jupyter": {
          "source_hidden": false,
          "outputs_hidden": false
        },
        "nteract": {
          "transient": {
            "deleting": false
          }
        },
        "gather": {
          "logged": 1605949522410
        }
      }
    },
    {
      "cell_type": "markdown",
      "source": [
        "## \n",
        "\n",
        "# Data Cleaning\n",
        "\n",
        "## "
      ],
      "metadata": {
        "nteract": {
          "transient": {
            "deleting": false
          }
        }
      }
    },
    {
      "cell_type": "code",
      "source": [
        "import re\n",
        "\n",
        "nlp= spacy.blank(\"de\")\n",
        "\n",
        "pattern = re.compile('http[s]?://(?:[a-zA-Z]|[0-9]|[$-_@.&+]|[!*\\(\\),]|(?:%[0-9a-fA-F][0-9a-fA-F]))+')\n",
        "\n",
        "new_text ={\"texts\":[], \"services\":[]}\n",
        "s= 0\n",
        "\n",
        "for index in range(len(train)):\n",
        "\n",
        "  email = str(train.iloc[index][\"WholeMail\"])\n",
        "\n",
        "  phrase = []\n",
        "\n",
        "  for word in str(email).split():\n",
        "    if (\"MD5\" not in word) and (\"www\" not in word) and (\"FW:\" not in word) and (\"[cid:i\" not in word) :\n",
        "      phrase.append(word.lower())\n",
        "\n",
        "  email = \" \".join(phrase)\n",
        "\n",
        "  email = re.sub(pattern, \"\", email)\n",
        "\n",
        "  tokenized_sentence = \" \".join([token.text for token in nlp(email)])\n",
        "\n",
        "\n",
        "  if len(tokenized_sentence)>10000:\n",
        "    print(len(tokenized_sentence))\n",
        "\n",
        "    continue\n",
        "\n",
        "  if identify_language(tokenized_sentence ) == \"de\":\n",
        "\n",
        "    new_text[\"texts\"].append(tokenized_sentence )\n",
        "  \n",
        "    new_text[\"services\"].append(str(train.iloc[index][\"ServiceProcessed\"]))\n",
        "\n",
        "print(len(new_text[\"texts\"]), len(new_text[\"services\"]))"
      ],
      "outputs": [
        {
          "output_type": "stream",
          "name": "stdout",
          "text": [
            "30950\n",
            "14837\n",
            "24081\n",
            "25681\n",
            "23993\n",
            "10485\n",
            "12908\n",
            "2662 2662\n"
          ]
        }
      ],
      "execution_count": 65,
      "metadata": {
        "collapsed": true,
        "jupyter": {
          "source_hidden": false,
          "outputs_hidden": false
        },
        "nteract": {
          "transient": {
            "deleting": false
          }
        },
        "gather": {
          "logged": 1605949565219
        }
      }
    },
    {
      "cell_type": "markdown",
      "source": [
        "Install tensorflow if necesary"
      ],
      "metadata": {
        "nteract": {
          "transient": {
            "deleting": false
          }
        }
      }
    },
    {
      "cell_type": "code",
      "source": [
        "#!pip install tensorflow==2.1.0\n",
        "#!pip install tensorflow-text==2.1.0rc0\n",
        "#!pip install tensorflow_hub==0.8.0\n"
      ],
      "outputs": [],
      "execution_count": 157,
      "metadata": {
        "collapsed": true,
        "jupyter": {
          "source_hidden": false,
          "outputs_hidden": false
        },
        "nteract": {
          "transient": {
            "deleting": false
          }
        },
        "gather": {
          "logged": 1605963932721
        }
      }
    },
    {
      "cell_type": "code",
      "source": [
        "import tensorflow as tf\n",
        "\n",
        "import tensorflow_hub as hub\n",
        "\n",
        "import tensorflow_text"
      ],
      "outputs": [],
      "execution_count": 67,
      "metadata": {
        "collapsed": true,
        "jupyter": {
          "source_hidden": false,
          "outputs_hidden": false
        },
        "nteract": {
          "transient": {
            "deleting": false
          }
        },
        "gather": {
          "logged": 1605949578689
        }
      }
    },
    {
      "cell_type": "markdown",
      "source": [
        "Download Multiversal Encoder Large"
      ],
      "metadata": {
        "nteract": {
          "transient": {
            "deleting": false
          }
        }
      }
    },
    {
      "cell_type": "code",
      "source": [
        "gpus = tf.config.experimental.list_physical_devices('GPU')\n",
        "tf.config.experimental.set_virtual_device_configuration(gpus[0], [tf.config.experimental.VirtualDeviceConfiguration(memory_limit=5000)])\n",
        "\n",
        "multi_use_lg = hub.load(\"https://tfhub.dev/google/universal-sentence-encoder-multilingual-large/3\")\n",
        "\n",
        "embeddings = multi_use_lg([\"The quick brown fox jumps over the lazy dog.\", \"I am a sentence for which I would like to get its embedding\"])\n"
      ],
      "outputs": [],
      "execution_count": 68,
      "metadata": {
        "collapsed": true,
        "jupyter": {
          "source_hidden": false,
          "outputs_hidden": false
        },
        "nteract": {
          "transient": {
            "deleting": false
          }
        },
        "gather": {
          "logged": 1605949592400
        }
      }
    },
    {
      "cell_type": "code",
      "source": [
        "print(embeddings)"
      ],
      "outputs": [
        {
          "output_type": "stream",
          "name": "stdout",
          "text": [
            "tf.Tensor(\n",
            "[[-0.00258476 -0.00059474  0.07525816 ...  0.0069227  -0.04728683\n",
            "   0.04143079]\n",
            " [ 0.01956906  0.02436489 -0.08010634 ...  0.00997892 -0.05102588\n",
            "  -0.00850214]], shape=(2, 512), dtype=float32)\n"
          ]
        }
      ],
      "execution_count": 69,
      "metadata": {
        "collapsed": true,
        "jupyter": {
          "source_hidden": false,
          "outputs_hidden": false
        },
        "nteract": {
          "transient": {
            "deleting": false
          }
        },
        "gather": {
          "logged": 1605949592710
        }
      }
    },
    {
      "cell_type": "markdown",
      "source": [
        "Encode al the emails with use"
      ],
      "metadata": {
        "nteract": {
          "transient": {
            "deleting": false
          }
        }
      }
    },
    {
      "cell_type": "code",
      "source": [
        "\n",
        "embeddings= []\n",
        "\n",
        "s = 0\n",
        "\n",
        "for i in range(len(new_text[\"texts\"])):\n",
        "\n",
        "    if i % 10 == 0 and i > 0:\n",
        "\n",
        "        try:\n",
        "\n",
        "            tmp_embeddings = np.array(multi_use_lg(new_text[\"texts\"][s:i]))\n",
        "\n",
        "        except:\n",
        "            print(new_text[\"texts\"][s:i])\n",
        " \n",
        "        for j in range(0, len(tmp_embeddings)):\n",
        "            embeddings.append(tmp_embeddings[j])\n",
        "\n",
        "        s = i\n",
        "\n",
        "    li = i\n",
        "\n",
        "if s != li:\n",
        "\n",
        "    tmp_embeddings = np.array(multi_use_lg(new_text[\"texts\"][s:li + 1]))\n",
        "\n",
        "    for j in range(0, len(tmp_embeddings)):\n",
        "        embeddings.append(tmp_embeddings[j])\n",
        "\n",
        "embedded_emails = np.array(embeddings)\n",
        "print(len(embedded_emails))"
      ],
      "outputs": [
        {
          "output_type": "stream",
          "name": "stdout",
          "text": [
            "2662\n"
          ]
        }
      ],
      "execution_count": 70,
      "metadata": {
        "collapsed": true,
        "jupyter": {
          "source_hidden": false,
          "outputs_hidden": false
        },
        "nteract": {
          "transient": {
            "deleting": false
          }
        },
        "gather": {
          "logged": 1605949631745
        }
      }
    },
    {
      "cell_type": "markdown",
      "source": [
        "Normalize vectors "
      ],
      "metadata": {
        "nteract": {
          "transient": {
            "deleting": false
          }
        }
      }
    },
    {
      "cell_type": "code",
      "source": [
        "from sklearn.cluster import KMeans\n",
        "\n",
        "from sklearn.preprocessing import StandardScaler\n",
        "\n",
        "embedded_emails_normalized = StandardScaler().fit_transform(embedded_emails)\n",
        "\n",
        "print(len(embedded_emails_normalized))\n",
        "\n"
      ],
      "outputs": [
        {
          "output_type": "stream",
          "name": "stdout",
          "text": [
            "2662\n"
          ]
        }
      ],
      "execution_count": 71,
      "metadata": {
        "collapsed": true,
        "jupyter": {
          "source_hidden": false,
          "outputs_hidden": false
        },
        "nteract": {
          "transient": {
            "deleting": false
          }
        },
        "gather": {
          "logged": 1605949632403
        }
      }
    },
    {
      "cell_type": "markdown",
      "source": [
        "Cluster the data in diferent partitions "
      ],
      "metadata": {
        "nteract": {
          "transient": {
            "deleting": false
          }
        }
      }
    },
    {
      "cell_type": "code",
      "source": [
        "partitions = {}\n",
        "\n",
        "for K in [5,10,15,25]:\n",
        "\n",
        "    partitions[str(K)] = {}\n",
        "\n",
        "    clustering =  KMeans(n_clusters=K, n_jobs = 4,  max_iter=300, verbose=1).fit_predict(embedded_emails_normalized)\n",
        "\n",
        "    print(\"Proposed cluster for K ==\", K)\n",
        "\n",
        "    clustered_services = {}\n",
        "\n",
        "    clusters_totals = {}\n",
        "\n",
        "    clusters_ids = {}\n",
        "\n",
        "    new_ids = {}\n",
        "\n",
        "    for i in range(K):\n",
        "\n",
        "        clustered_services[str(i)] = {}\n",
        "\n",
        "        clusters_totals[str(i)] = 0\n",
        "\n",
        "        clusters_ids[str(i)] = []\n",
        "\n",
        "        new_ids[str(i)] = []\n",
        "\n",
        "\n",
        "\n",
        "    for i in range(len(clustering)):\n",
        "\n",
        "        clusters_ids[str(clustering[i])].append(str(i))\n",
        "\n",
        "        if new_text[\"services\"][i] not in clustered_services[str(clustering[i])]:\n",
        "\n",
        "            clustered_services[str(clustering[i])][new_text[\"services\"][i]] = 1\n",
        "        else:\n",
        "            clustered_services[str(clustering[i])][new_text[\"services\"][i]] +=1\n",
        "\n",
        "        clusters_totals[str(clustering[i])] +=  1\n",
        "\n",
        "    amount_labels= {}\n",
        "\n",
        "    for i in range(len(new_text[\"services\"])):\n",
        "\n",
        "        if str(new_text[\"services\"][i]) not in amount_labels:\n",
        "\n",
        "            amount_labels[str(new_text[\"services\"][i])] = 1\n",
        "\n",
        "        else:\n",
        "            amount_labels[str(new_text[\"services\"][i])]+= 1\n",
        "\n",
        "\n",
        "    for elem in clustered_services:\n",
        "\n",
        "        del_list = []\n",
        "\n",
        "        for elem1 in clustered_services[elem]:\n",
        "\n",
        "            clustered_services[elem][elem1] = round((clustered_services[elem][elem1] / amount_labels[elem1]) * 100,2)\n",
        "\n",
        "            if clustered_services[elem][elem1] < 50:\n",
        "                clustered_services[elem][elem1] = 0\n",
        "                del_list.append(elem1)\n",
        "\n",
        "        for elem1 in del_list:\n",
        "\n",
        "            del clustered_services[elem][elem1]\n",
        "\n",
        "\n",
        "        for elem1 in clusters_ids[elem]:\n",
        "\n",
        "            if new_text[\"services\"][int(elem1)] in clustered_services[elem]:\n",
        "\n",
        "                new_ids[elem].append(elem1)\n",
        "\n",
        "\n",
        "    print()\n",
        "    print()\n",
        "    labels_to_clusters = []\n",
        "\n",
        "    s = 0\n",
        "\n",
        "    for elem in clustered_services:\n",
        "\n",
        "        if len(clustered_services[elem]) < 2:\n",
        "            continue\n",
        "\n",
        "        \n",
        "        tmp_dict = clustered_services[elem]\n",
        "\n",
        "\n",
        "        for elem1 in tmp_dict:\n",
        "            tmp_dict[elem1] = str(tmp_dict[elem1])+\"%\"\n",
        "\n",
        "        print()\n",
        "\n",
        "        print(\"Merge:\", s)\n",
        "        \n",
        "        partitions [ str(K)][str(s)] = {}\n",
        "\n",
        "        partitions[str(K)] [str(s)] [\"composition\"] = [elem1 for elem1 in clustered_services[elem]]\n",
        "\n",
        "        partitions[str(K)][str(s)][\"total element\"] = clusters_totals[str(elem)]\n",
        "\n",
        "        partitions[str(K)][str(s)][\"indices\"] = new_ids[elem]\n",
        "\n",
        "        print()\n",
        "\n",
        "        print([elem1 for elem1 in clustered_services[elem]])\n",
        "        print()\n",
        "\n",
        "        print(\"total elements:\", clusters_totals[str(elem)])\n",
        "\n",
        "        print()\n",
        "        print(\"Composition:\")\n",
        "        print(tmp_dict)\n",
        "        s+=1\n",
        "\n",
        "        print()\n",
        "        print()\n",
        "        print()\n",
        "        \n",
        "\n",
        "        #for elem1 in clustered_services[elem]:\n",
        "            #if elem1 not in labels_to_clusters:\n",
        "                #labels_to_clusters.append(elem1)\n",
        "\n",
        "\n",
        "\n",
        "        \n",
        "print()"
      ],
      "outputs": [
        {
          "output_type": "stream",
          "name": "stdout",
          "text": [
            "Proposed cluster for K == 5\n",
            "\n",
            "\n",
            "\n",
            "Merge: 0\n",
            "\n",
            "['EDA_S_Netzdrucker', 'EDA_ANW_CodX PostOffice', 'EDA_S_Arbeitsplatzdrucker', 'EDA_ANW_ARIS (EDA Scout)']\n",
            "\n",
            "total elements: 182\n",
            "\n",
            "Composition:\n",
            "{'EDA_S_Netzdrucker': '88.99%', 'EDA_ANW_CodX PostOffice': '100.0%', 'EDA_S_Arbeitsplatzdrucker': '100.0%', 'EDA_ANW_ARIS (EDA Scout)': '100.0%'}\n",
            "\n",
            "\n",
            "\n",
            "\n",
            "Merge: 1\n",
            "\n",
            "['EDA_S_BA_2FA', 'EDA_ANW_Zeiterfassung SAP']\n",
            "\n",
            "total elements: 161\n",
            "\n",
            "Composition:\n",
            "{'EDA_S_BA_2FA': '81.05%', 'EDA_ANW_Zeiterfassung SAP': '100.0%'}\n",
            "\n",
            "\n",
            "\n",
            "\n",
            "Merge: 2\n",
            "\n",
            "['EDA_S_IT Sicherheit', 'EDA_ANW_Intranet/Collaboration EDA', 'EDA_S_BA_Account', 'EDA_S_APS_OS_BasisSW', 'EDA_ANW_DMS Fabasoft eGov Suite', 'EDA_S_BA_Mailbox', 'EDA_S_Mobile Kommunikation', 'EDA_ANW_Office Manager', 'EDA_S_Zusätzliche Software', 'EDA_ANW_Zentrale Raumreservation EDA', 'EDA_ANW_SAP Services', 'EDA_ANW_ARS Remedy', '_Pending', 'EDA_S_BA_RemoteAccess', 'EDA_S_BA_Datenablage', 'EDA_ANW_IAM Tool EDA', 'EDA_ANW_Internet EDA', 'EDA_ANW_at Honorarvertretung', 'EDA_ANW_ZACWEB', 'EDA_ANW_CH@World (MOSS)', 'EDA_ANW_eVERA', 'EDA_S_BA_Internetzugriff', 'EDA_ANW_EDAssist+', 'EDA_ANW_MOVE!', 'EDA_ANW_Plato-HH', 'EDA_ANW_EDA PWC Tool']\n",
            "\n",
            "total elements: 1110\n",
            "\n",
            "Composition:\n",
            "{'EDA_S_IT Sicherheit': '66.67%', 'EDA_ANW_Intranet/Collaboration EDA': '79.78%', 'EDA_S_BA_Account': '64.86%', 'EDA_S_APS_OS_BasisSW': '64.5%', 'EDA_ANW_DMS Fabasoft eGov Suite': '69.23%', 'EDA_S_BA_Mailbox': '70.0%', 'EDA_S_Mobile Kommunikation': '57.98%', 'EDA_ANW_Office Manager': '100.0%', 'EDA_S_Zusätzliche Software': '55.26%', 'EDA_ANW_Zentrale Raumreservation EDA': '75.0%', 'EDA_ANW_SAP Services': '80.0%', 'EDA_ANW_ARS Remedy': '58.33%', '_Pending': '55.56%', 'EDA_S_BA_RemoteAccess': '57.14%', 'EDA_S_BA_Datenablage': '58.06%', 'EDA_ANW_IAM Tool EDA': '66.67%', 'EDA_ANW_Internet EDA': '75.0%', 'EDA_ANW_at Honorarvertretung': '75.0%', 'EDA_ANW_ZACWEB': '97.67%', 'EDA_ANW_CH@World (MOSS)': '88.46%', 'EDA_ANW_eVERA': '100.0%', 'EDA_S_BA_Internetzugriff': '66.67%', 'EDA_ANW_EDAssist+': '50.0%', 'EDA_ANW_MOVE!': '81.82%', 'EDA_ANW_Plato-HH': '83.33%', 'EDA_ANW_EDA PWC Tool': '50.0%'}\n",
            "\n",
            "\n",
            "\n",
            "\n",
            "Merge: 3\n",
            "\n",
            "['EDA_S_BA_UCC_IVR', 'EDA_S_Netzwerk Ausland', 'EDA_ANW_EDAContacts', 'EDA_ANW_ORBIS', 'EDA_ANW_EDAssist+', 'EDA_ANW_ITDoc Sharepoint', 'EDA_ANW_NOS:4', 'EDA_ANW_Reisehinweise', 'EDA_ANW_FDFA Security App']\n",
            "\n",
            "total elements: 650\n",
            "\n",
            "Composition:\n",
            "{'EDA_S_BA_UCC_IVR': '68.18%', 'EDA_S_Netzwerk Ausland': '77.36%', 'EDA_ANW_EDAContacts': '100.0%', 'EDA_ANW_ORBIS': '100.0%', 'EDA_ANW_EDAssist+': '50.0%', 'EDA_ANW_ITDoc Sharepoint': '66.67%', 'EDA_ANW_NOS:4': '100.0%', 'EDA_ANW_Reisehinweise': '100.0%', 'EDA_ANW_FDFA Security App': '66.67%'}\n",
            "\n",
            "\n",
            "\n",
            "\n",
            "Merge: 4\n",
            "\n",
            "['EDA_S_Raumbewirtschaftung', 'EDA_S_APS_Peripherie', 'EDA_S_APS_PC', 'EDA_S_APS_Monitor', 'EDA_S_APS', 'EDA_S_BA_ServerAusland', 'EDA_ANW_EDA PWC Tool']\n",
            "\n",
            "total elements: 559\n",
            "\n",
            "Composition:\n",
            "{'EDA_S_Raumbewirtschaftung': '77.27%', 'EDA_S_APS_Peripherie': '86.84%', 'EDA_S_APS_PC': '70.63%', 'EDA_S_APS_Monitor': '95.88%', 'EDA_S_APS': '53.33%', 'EDA_S_BA_ServerAusland': '54.55%', 'EDA_ANW_EDA PWC Tool': '50.0%'}\n",
            "\n",
            "\n",
            "\n",
            "Proposed cluster for K == 10\n",
            "\n",
            "\n",
            "\n",
            "Merge: 0\n",
            "\n",
            "['EDA_ANW_Intranet/Collaboration EDA', 'EDA_ANW_SAP Services', 'EDA_ANW_Internet EDA', 'EDA_ANW_ZACWEB', 'EDA_ANW_eVERA', 'EDA_S_BA_Internetzugriff', 'EDA_ANW_CH@World (MOSS)', 'EDA_ANW_EDAssist+']\n",
            "\n",
            "total elements: 301\n",
            "\n",
            "Composition:\n",
            "{'EDA_ANW_Intranet/Collaboration EDA': '50.56%', 'EDA_ANW_SAP Services': '52.0%', 'EDA_ANW_Internet EDA': '75.0%', 'EDA_ANW_ZACWEB': '97.67%', 'EDA_ANW_eVERA': '100.0%', 'EDA_S_BA_Internetzugriff': '77.78%', 'EDA_ANW_CH@World (MOSS)': '71.15%', 'EDA_ANW_EDAssist+': '50.0%'}\n",
            "\n",
            "\n",
            "\n",
            "\n",
            "Merge: 1\n",
            "\n",
            "['EDA_S_IT Sicherheit', 'EDA_S_BA_Mailbox', 'EDA_ANW_Zentrale Raumreservation EDA']\n",
            "\n",
            "total elements: 206\n",
            "\n",
            "Composition:\n",
            "{'EDA_S_IT Sicherheit': '53.85%', 'EDA_S_BA_Mailbox': '63.68%', 'EDA_ANW_Zentrale Raumreservation EDA': '50.0%'}\n",
            "\n",
            "\n",
            "\n",
            "\n",
            "Merge: 2\n",
            "\n",
            "['EDA_S_Netzdrucker', 'EDA_ANW_CodX PostOffice', 'EDA_S_Arbeitsplatzdrucker', 'EDA_ANW_ARIS (EDA Scout)']\n",
            "\n",
            "total elements: 171\n",
            "\n",
            "Composition:\n",
            "{'EDA_S_Netzdrucker': '88.07%', 'EDA_ANW_CodX PostOffice': '100.0%', 'EDA_S_Arbeitsplatzdrucker': '100.0%', 'EDA_ANW_ARIS (EDA Scout)': '100.0%'}\n",
            "\n",
            "\n",
            "\n",
            "\n",
            "Merge: 3\n",
            "\n",
            "['EDA_S_APS_OS_BasisSW', 'EDA_ANW_Office Manager']\n",
            "\n",
            "total elements: 159\n",
            "\n",
            "Composition:\n",
            "{'EDA_S_APS_OS_BasisSW': '51.0%', 'EDA_ANW_Office Manager': '66.67%'}\n",
            "\n",
            "\n",
            "\n",
            "\n",
            "Merge: 4\n",
            "\n",
            "['EDA_S_Raumbewirtschaftung', 'EDA_S_BA_Datenablage', 'EDA_ANW_ARS Remedy', 'EDA_ANW_at Honorarvertretung', 'EDA_ANW_IAM Tool EDA', 'EDA_ANW_EDAContacts', 'EDA_S_Backup & Restore', 'EDA_ANW_ORBIS', 'EDA_ANW_EDA PWC Tool', 'EDA_ANW_MOVE!', 'EDA_ANW_Plato-HH', 'EDA_ANW_NOS:4', 'EDA_ANW_FDFA Security App']\n",
            "\n",
            "total elements: 556\n",
            "\n",
            "Composition:\n",
            "{'EDA_S_Raumbewirtschaftung': '79.55%', 'EDA_S_BA_Datenablage': '51.61%', 'EDA_ANW_ARS Remedy': '50.0%', 'EDA_ANW_at Honorarvertretung': '87.5%', 'EDA_ANW_IAM Tool EDA': '100.0%', 'EDA_ANW_EDAContacts': '100.0%', 'EDA_S_Backup & Restore': '66.67%', 'EDA_ANW_ORBIS': '50.0%', 'EDA_ANW_EDA PWC Tool': '100.0%', 'EDA_ANW_MOVE!': '90.91%', 'EDA_ANW_Plato-HH': '50.0%', 'EDA_ANW_NOS:4': '50.0%', 'EDA_ANW_FDFA Security App': '66.67%'}\n",
            "\n",
            "\n",
            "\n",
            "\n",
            "Merge: 5\n",
            "\n",
            "['EDA_S_Netzwerk Ausland', 'EDA_ANW_EDAssist+', 'EDA_ANW_ORBIS', 'EDA_ANW_ITDoc Sharepoint', 'EDA_ANW_NOS:4', 'EDA_ANW_Reisehinweise']\n",
            "\n",
            "total elements: 347\n",
            "\n",
            "Composition:\n",
            "{'EDA_S_Netzwerk Ausland': '62.26%', 'EDA_ANW_EDAssist+': '50.0%', 'EDA_ANW_ORBIS': '50.0%', 'EDA_ANW_ITDoc Sharepoint': '66.67%', 'EDA_ANW_NOS:4': '50.0%', 'EDA_ANW_Reisehinweise': '100.0%'}\n",
            "\n",
            "\n",
            "\n",
            "\n",
            "Merge: 6\n",
            "\n",
            "['EDA_S_APS_Peripherie', 'EDA_S_APS_PC', 'EDA_S_APS_Monitor', 'EDA_S_APS']\n",
            "\n",
            "total elements: 439\n",
            "\n",
            "Composition:\n",
            "{'EDA_S_APS_Peripherie': '81.58%', 'EDA_S_APS_PC': '67.83%', 'EDA_S_APS_Monitor': '96.91%', 'EDA_S_APS': '53.33%'}\n",
            "\n",
            "\n",
            "\n",
            "\n",
            "Merge: 7\n",
            "\n",
            "['EDA_S_BA_2FA', 'EDA_ANW_Zeiterfassung SAP']\n",
            "\n",
            "total elements: 152\n",
            "\n",
            "Composition:\n",
            "{'EDA_S_BA_2FA': '77.89%', 'EDA_ANW_Zeiterfassung SAP': '100.0%'}\n",
            "\n",
            "\n",
            "\n",
            "Proposed cluster for K == 15\n",
            "\n",
            "\n",
            "\n",
            "Merge: 0\n",
            "\n",
            "['EDA_S_APS_OS_BasisSW', 'EDA_ANW_Office Manager']\n",
            "\n",
            "total elements: 159\n",
            "\n",
            "Composition:\n",
            "{'EDA_S_APS_OS_BasisSW': '50.0%', 'EDA_ANW_Office Manager': '66.67%'}\n",
            "\n",
            "\n",
            "\n",
            "\n",
            "Merge: 1\n",
            "\n",
            "['EDA_S_BA_2FA', 'EDA_ANW_Zeiterfassung SAP']\n",
            "\n",
            "total elements: 142\n",
            "\n",
            "Composition:\n",
            "{'EDA_S_BA_2FA': '77.89%', 'EDA_ANW_Zeiterfassung SAP': '100.0%'}\n",
            "\n",
            "\n",
            "\n",
            "\n",
            "Merge: 2\n",
            "\n",
            "['EDA_S_Betrieb Übermitttlungssysteme', 'EDA_S_Netzwerk Ausland', 'EDA_S_BA_ServerAusland', 'EDA_S_Raumbewirtschaftung']\n",
            "\n",
            "total elements: 217\n",
            "\n",
            "Composition:\n",
            "{'EDA_S_Betrieb Übermitttlungssysteme': '54.05%', 'EDA_S_Netzwerk Ausland': '71.7%', 'EDA_S_BA_ServerAusland': '54.55%', 'EDA_S_Raumbewirtschaftung': '56.82%'}\n",
            "\n",
            "\n",
            "\n",
            "\n",
            "Merge: 3\n",
            "\n",
            "['EDA_S_APS_PC', 'EDA_S_APS']\n",
            "\n",
            "total elements: 206\n",
            "\n",
            "Composition:\n",
            "{'EDA_S_APS_PC': '62.94%', 'EDA_S_APS': '53.33%'}\n",
            "\n",
            "\n",
            "\n",
            "\n",
            "Merge: 4\n",
            "\n",
            "['EDA_ANW_ZACWEB', 'EDA_S_BA_Internetzugriff', 'EDA_ANW_CH@World (MOSS)']\n",
            "\n",
            "total elements: 209\n",
            "\n",
            "Composition:\n",
            "{'EDA_ANW_ZACWEB': '97.67%', 'EDA_S_BA_Internetzugriff': '61.11%', 'EDA_ANW_CH@World (MOSS)': '65.38%'}\n",
            "\n",
            "\n",
            "\n",
            "\n",
            "Merge: 5\n",
            "\n",
            "['EDA_S_Netzdrucker', 'EDA_ANW_CodX PostOffice', 'EDA_S_Arbeitsplatzdrucker', 'EDA_ANW_ARIS (EDA Scout)']\n",
            "\n",
            "total elements: 164\n",
            "\n",
            "Composition:\n",
            "{'EDA_S_Netzdrucker': '84.4%', 'EDA_ANW_CodX PostOffice': '100.0%', 'EDA_S_Arbeitsplatzdrucker': '100.0%', 'EDA_ANW_ARIS (EDA Scout)': '100.0%'}\n",
            "\n",
            "\n",
            "\n",
            "\n",
            "Merge: 6\n",
            "\n",
            "['EDA_ANW_IAM Tool EDA', 'EDA_ANW_at Honorarvertretung', 'EDA_ANW_eVERA', 'EDA_ANW_EDA PWC Tool', 'EDA_ANW_MOVE!', 'EDA_ANW_Plato-HH']\n",
            "\n",
            "total elements: 399\n",
            "\n",
            "Composition:\n",
            "{'EDA_ANW_IAM Tool EDA': '66.67%', 'EDA_ANW_at Honorarvertretung': '62.5%', 'EDA_ANW_eVERA': '100.0%', 'EDA_ANW_EDA PWC Tool': '100.0%', 'EDA_ANW_MOVE!': '81.82%', 'EDA_ANW_Plato-HH': '50.0%'}\n",
            "\n",
            "\n",
            "\n",
            "\n",
            "Merge: 7\n",
            "\n",
            "['EDA_ANW_EDAContacts', 'EDA_ANW_ORBIS', 'EDA_ANW_ITDoc Sharepoint', 'EDA_ANW_NOS:4', 'EDA_ANW_Reisehinweise', 'EDA_ANW_FDFA Security App']\n",
            "\n",
            "total elements: 273\n",
            "\n",
            "Composition:\n",
            "{'EDA_ANW_EDAContacts': '100.0%', 'EDA_ANW_ORBIS': '100.0%', 'EDA_ANW_ITDoc Sharepoint': '66.67%', 'EDA_ANW_NOS:4': '100.0%', 'EDA_ANW_Reisehinweise': '100.0%', 'EDA_ANW_FDFA Security App': '66.67%'}\n",
            "\n",
            "\n",
            "\n",
            "\n",
            "Merge: 8\n",
            "\n",
            "['EDA_ANW_Internet EDA', 'EDA_ANW_EDAssist+']\n",
            "\n",
            "total elements: 123\n",
            "\n",
            "Composition:\n",
            "{'EDA_ANW_Internet EDA': '50.0%', 'EDA_ANW_EDAssist+': '50.0%'}\n",
            "\n",
            "\n",
            "\n",
            "\n",
            "Merge: 9\n",
            "\n",
            "['EDA_S_IT Sicherheit', 'EDA_S_BA_Mailbox', 'EDA_ANW_Zentrale Raumreservation EDA']\n",
            "\n",
            "total elements: 190\n",
            "\n",
            "Composition:\n",
            "{'EDA_S_IT Sicherheit': '53.85%', 'EDA_S_BA_Mailbox': '60.53%', 'EDA_ANW_Zentrale Raumreservation EDA': '50.0%'}\n",
            "\n",
            "\n",
            "\n",
            "Proposed cluster for K == 25\n",
            "\n",
            "\n",
            "\n",
            "Merge: 0\n",
            "\n",
            "['EDA_S_Raumbewirtschaftung', 'EDA_S_BA_ServerAusland']\n",
            "\n",
            "total elements: 112\n",
            "\n",
            "Composition:\n",
            "{'EDA_S_Raumbewirtschaftung': '84.09%', 'EDA_S_BA_ServerAusland': '54.55%'}\n",
            "\n",
            "\n",
            "\n",
            "\n",
            "Merge: 1\n",
            "\n",
            "['EDA_S_BA_Datenablage', 'EDA_ANW_IAM Tool EDA', 'EDA_ANW_EDAContacts', 'EDA_ANW_EDAssist+']\n",
            "\n",
            "total elements: 111\n",
            "\n",
            "Composition:\n",
            "{'EDA_S_BA_Datenablage': '51.61%', 'EDA_ANW_IAM Tool EDA': '100.0%', 'EDA_ANW_EDAContacts': '50.0%', 'EDA_ANW_EDAssist+': '50.0%'}\n",
            "\n",
            "\n",
            "\n",
            "\n",
            "Merge: 2\n",
            "\n",
            "['EDA_S_BA_2FA', 'EDA_ANW_Zeiterfassung SAP']\n",
            "\n",
            "total elements: 137\n",
            "\n",
            "Composition:\n",
            "{'EDA_S_BA_2FA': '78.95%', 'EDA_ANW_Zeiterfassung SAP': '100.0%'}\n",
            "\n",
            "\n",
            "\n",
            "\n",
            "Merge: 3\n",
            "\n",
            "['EDA_ANW_MOVE!', 'EDA_ANW_Plato-HH']\n",
            "\n",
            "total elements: 254\n",
            "\n",
            "Composition:\n",
            "{'EDA_ANW_MOVE!': '72.73%', 'EDA_ANW_Plato-HH': '50.0%'}\n",
            "\n",
            "\n",
            "\n",
            "\n",
            "Merge: 4\n",
            "\n",
            "['EDA_ANW_eVERA', 'EDA_ANW_ORBIS', 'EDA_ANW_Reisehinweise']\n",
            "\n",
            "total elements: 91\n",
            "\n",
            "Composition:\n",
            "{'EDA_ANW_eVERA': '100.0%', 'EDA_ANW_ORBIS': '100.0%', 'EDA_ANW_Reisehinweise': '100.0%'}\n",
            "\n",
            "\n",
            "\n",
            "\n",
            "Merge: 5\n",
            "\n",
            "['EDA_S_Netzdrucker', 'EDA_S_Arbeitsplatzdrucker', 'EDA_ANW_ARIS (EDA Scout)']\n",
            "\n",
            "total elements: 112\n",
            "\n",
            "Composition:\n",
            "{'EDA_S_Netzdrucker': '62.39%', 'EDA_S_Arbeitsplatzdrucker': '100.0%', 'EDA_ANW_ARIS (EDA Scout)': '100.0%'}\n",
            "\n",
            "\n",
            "\n",
            "\n",
            "Merge: 6\n",
            "\n",
            "['EDA_ANW_ZACWEB', 'EDA_ANW_CH@World (MOSS)']\n",
            "\n",
            "total elements: 70\n",
            "\n",
            "Composition:\n",
            "{'EDA_ANW_ZACWEB': '97.67%', 'EDA_ANW_CH@World (MOSS)': '51.92%'}\n",
            "\n",
            "\n",
            "\n",
            "\n",
            "Merge: 7\n",
            "\n",
            "['EDA_ANW_CodX PostOffice', 'EDA_ANW_ITDoc Sharepoint', 'EDA_ANW_NOS:4']\n",
            "\n",
            "total elements: 186\n",
            "\n",
            "Composition:\n",
            "{'EDA_ANW_CodX PostOffice': '100.0%', 'EDA_ANW_ITDoc Sharepoint': '66.67%', 'EDA_ANW_NOS:4': '50.0%'}\n",
            "\n",
            "\n",
            "\n",
            "\n",
            "Merge: 8\n",
            "\n",
            "['EDA_S_BA_UCC_IVR', 'EDA_ANW_EDAContacts']\n",
            "\n",
            "total elements: 110\n",
            "\n",
            "Composition:\n",
            "{'EDA_S_BA_UCC_IVR': '63.64%', 'EDA_ANW_EDAContacts': '50.0%'}\n",
            "\n",
            "\n",
            "\n",
            "\n",
            "Merge: 9\n",
            "\n",
            "['EDA_ANW_at Honorarvertretung', 'EDA_ANW_EDA PWC Tool', 'EDA_ANW_NOS:4']\n",
            "\n",
            "total elements: 63\n",
            "\n",
            "Composition:\n",
            "{'EDA_ANW_at Honorarvertretung': '50.0%', 'EDA_ANW_EDA PWC Tool': '100.0%', 'EDA_ANW_NOS:4': '50.0%'}\n",
            "\n",
            "\n",
            "\n",
            "\n"
          ]
        }
      ],
      "execution_count": 119,
      "metadata": {
        "collapsed": true,
        "jupyter": {
          "source_hidden": false,
          "outputs_hidden": false
        },
        "nteract": {
          "transient": {
            "deleting": false
          }
        },
        "gather": {
          "logged": 1605958001894
        }
      }
    },
    {
      "cell_type": "markdown",
      "source": [
        "Explore different possible merges"
      ],
      "metadata": {
        "nteract": {
          "transient": {
            "deleting": false
          }
        }
      }
    },
    {
      "cell_type": "code",
      "source": [
        "K = 15\n",
        "\n",
        "for elem in partitions[str(K)]:\n",
        "    print(\"Merge:\",int(elem)+1)\n",
        "    print()\n",
        "    print(partitions[str(K)][elem][\"composition\"])\n",
        "    print()\n",
        "\n",
        "    print(\"Examples of these email classes:\")\n",
        "    print()\n",
        "\n",
        "    already_showed=[]\n",
        "\n",
        "    for elem1 in partitions[str(K)][elem][\"indices\"]:\n",
        "        if new_text[\"services\"][int(elem1)] not in already_showed:\n",
        "            print(\"[\",new_text[\"services\"][int(elem1)],\"]\", new_text[\"texts\"][int(elem1)])\n",
        "            print()\n",
        "            already_showed.append(new_text[\"services\"][int(elem1)])\n",
        "            if len(already_showed)==len(partitions[str(K)][elem][\"composition\"]):\n",
        "                break \n",
        "\n",
        "    print()\n",
        "\n",
        "\n"
      ],
      "outputs": [
        {
          "output_type": "stream",
          "name": "stdout",
          "text": [
            "Merge: 1\n",
            "\n",
            "['EDA_S_APS_OS_BasisSW', 'EDA_ANW_Office Manager']\n",
            "\n",
            "Examples of these email classes:\n",
            "\n",
            "[ EDA_S_APS_OS_BasisSW ] acrobat reader liebes helpdesk in der vorbereitung für die actenova migration finde ich im k : die belege früherer wochen zwar abgespeichert , aber beim öffnen erscheint die fehlermeldung unten und kein inhalt . gibt es eine möglichkeit , den inhalt mit einem « trick » zu rekonstruieren ? wir haben seit langem probleme beim pd24 programm . teilweise speichern sich die unterlagen ohne hürden , zeitweise aber mit offensichtlich nachträglichen überraschungen beim wiederöffnen . ich habe einzelne stichproben im laufwerk gemacht , aber es wird mir unmöglich sein , jeden beleg vor der migration noch einzeln zu testen . danke für ihre hilfe , da ich es sich um geschäftsrelevante archiv-belege handelt . freundliche grüsse k:/ vision / bratislava/woche 28 wilma unfer fachspezialistin eidgenössisches departement für auswärtige angelegenheiten eda direktion für ressourcen dr finanzen eda , buchführung auslandvertretungen freiburgstrasse 0 1 2 3 , 0 1 2 3 bern this e-mail may contain trade secrets or privileged , undisclosed or otherwise confidential information . if you have received this e-mail in error , you are hereby notified that any review , copying or distribution of it is strictly prohibited . please inform us immediately and destroy the original mail.thank you for your cooperation . prozess : buchhaltung an iw-p basis\n",
            "\n",
            "[ EDA_ANW_Office Manager ] smiley im word guten tag nach bern nach rückkehr aus dem urlaub ist das beim öffnen des word das « smiley » zur dokumentbearbeitung nicht mehr vorhanden . besten dank für ihre anweisung , wie ich dies wieder aktivieren kann . freundliche grüsse\n",
            "\n",
            "\n",
            "Merge: 2\n",
            "\n",
            "['EDA_S_BA_2FA', 'EDA_ANW_Zeiterfassung SAP']\n",
            "\n",
            "Examples of these email classes:\n",
            "\n",
            "[ EDA_S_BA_2FA ] smart card blockiert lieber helpdesk sie haben mir den computer freigeschaltet , weil meine smartcard blockiert ist . ich bin nun in ausserholligen und möchte die smardcard gern deblockieren . was muss ich tun ? bin jetzt noch frei , aber ab 10.30h-12h in einer sitzung . um 12.30 möchte ich idealerweise das büro wieder verlassen . hoffe das klappt heute . lg\n",
            "\n",
            "[ EDA_ANW_Zeiterfassung SAP ] smartcard-terminal tot - deza haupteingang freiburgstrasse 0 1 2 3 , loge guten morgen hiermit möchte ich melden , dass der terminal bei der loge haupteingang freiburgstrasse 0 1 2 3 nicht aktiv ist . darf ich euch bitten , die nötigen massnahmen zu unternehmen , dass der wieder geht . vielen dank\n",
            "\n",
            "\n",
            "Merge: 3\n",
            "\n",
            "['EDA_S_Betrieb Übermitttlungssysteme', 'EDA_S_Netzwerk Ausland', 'EDA_S_BA_ServerAusland', 'EDA_S_Raumbewirtschaftung']\n",
            "\n",
            "Examples of these email classes:\n",
            "\n",
            "[ EDA_S_Betrieb Übermitttlungssysteme ] rote licht blinkt - aber keine nachricht sichtbar - gk shan ... ref . 0 1 2 3 .0-zid sehr geehrte kollegen vom helpdesk seit gestern abend blinkt die rote empfangslampe des tc-0 1 2 3 . andere lichter sind jedoch nicht eingeschaltet . es gibt keinen ton . also habe ich mit meiner persönlichen karte nachgesehen , konnte aber keine neuen oder aktuellen nachrichten finden . dasselbe ist meinem manager , herrn ralph steinegger , passiert . wir konnten keine erhaltenen nachrichten sehen . da ich seit jahren nicht mehr an tc-0 1 2 3 melde , haben wir den zweifel , dass wir der gelben karte auch nicht richtig benutzt haben . können sie bitte die situation anschauen ? vielen dank im voraus , freundliche grüsse\n",
            "\n",
            "[ EDA_S_Netzwerk Ausland ] elektrizitätsstörungen aufgrund der jahresüberholung sehr geehrte damen und herren , zur information : die gebäudeverwaltung hat uns informiert , dass für dieses wochenende der austausch der elektrischen generatoren geplant ist . in dieser zeit wird das gebäude ohne backup-stromversorgung sein . sollte es zu einem elektrizitätsausfall kommen , wird das gebäude ohne stromversorgung bleiben . stromausfälle in ljubljana sind jedoch extrem selten , daher denke ich , wir brauchen uns keine sorgen zu machen . freundliche grüsse\n",
            "\n",
            "[ EDA_S_BA_ServerAusland ] ups batterien überbrückungsdauer guten tag da wir in den letzten monaten zwei mal einen grösseren stromausfall auf der botschaft hatten , hat sich bei uns die frage gestellt wie lange die batterien des ups vom tc007 eigentlich nach einem stromausfall laufen ? ist es möglich eine zweite batterie anzuschliessen um diese laufzeit zu verlängern ? besten dank\n",
            "\n",
            "[ EDA_S_Raumbewirtschaftung ] emch lift anlage 0 1 2 3 . guten tag die liftanlage 0 1 2 3 stoppt jeweils im 2 und dritten stock ohne das vorher so gewählt zu haben . die vorabwahl auf der tastatur fällt nach einem kurzen moment wieder weg . zudem bin ich vorher kurze zeit stecken geblieben . eventuell ein fall eine kontrolle . freundlichst emmanuel schiess gs-eda kompetenzzentrum verträge und beschaffungen sachbearbeiter/in büro 0 1 2 3 freiburgstrasse tel +0 1 2 3 mob +0 1 2 3 arbeitstage montag-donnerstag\n",
            "\n",
            "\n",
            "Merge: 4\n",
            "\n",
            "['EDA_S_APS_PC', 'EDA_S_APS']\n",
            "\n",
            "Examples of these email classes:\n",
            "\n",
            "[ EDA_S_APS_PC ] asset-no . 0 1 2 3 dell , user mxm , verbindungsprobleme sehr geehrte damen und herren frau muster hat mir heute morgen mitgeteilt , dass ihre verbindung sehr langsam ist ( sie arbeitet im büro ) . es wurden schon zwei restarts gemacht . sie kann bspw. die mailboxen in outlook nicht mehr öffnen . ich habe keine anderen meldungen von mitarbeitern in amman , dass die verbindung schlecht sei . somit scheint es ein konkretes problem bei ihrer station zu sein . darf ich sie bitten , mit frau muster kontakt aufzunehmen ? freundliche grüsse\n",
            "\n",
            "[ EDA_S_APS ] neuer laptop guten morgen beim laptop ( asset-nummer : 0 1 2 3 ) von frau franziska schärli ( sxf ) fällt langsam die tastatur auseinader . daher wollte ich sie bitten , uns einen ersatz zu schicken . vielen dank und freundliche grüsse\n",
            "\n",
            "\n",
            "Merge: 5\n",
            "\n",
            "['EDA_ANW_ZACWEB', 'EDA_S_BA_Internetzugriff', 'EDA_ANW_CH@World (MOSS)']\n",
            "\n",
            "Examples of these email classes:\n",
            "\n",
            "[ EDA_ANW_ZACWEB ] problem zacweb-zugriff sehr geehrte damen und herren leider kann ich seit einiger zeit nicht mehr auf zacweb zugreifen , es erscheint jeweils die folgende fehlermeldung : restarts habe ich bereits durchgeführt und bei meiner kollegin funktioniert der zugriff wie gewohnt . besten dank für ihren support . freundliche grüsse\n",
            "\n",
            "[ EDA_S_BA_Internetzugriff ] access denied easyjet.com guten tag ich komme seit neustem nicht mehr weiter sobald ich auf der easyjet.com homepage bin . muss ich irgend eine einstellung ändern und wenn ja wo , damit ich wieder mit der homepage von easyjet arbeiten kann ? vielen dank für ihre hilfe . freundliche grüsse\n",
            "\n",
            "[ EDA_ANW_CH@World (MOSS) ] zugriff auf ch@world sehr geehrte damen und herren der zugriff auf ch@world funktioniert bei mir nur via internet explorer . da der zugriff auf diesen jedoch immer noch gesperrt ist und er via edge nicht funktioniert , bitte ich sie um ihre unterstützung . besten dank bereits im voraus ! herzliche grüsse\n",
            "\n",
            "\n",
            "Merge: 6\n",
            "\n",
            "['EDA_S_Netzdrucker', 'EDA_ANW_CodX PostOffice', 'EDA_S_Arbeitsplatzdrucker', 'EDA_ANW_ARIS (EDA Scout)']\n",
            "\n",
            "Examples of these email classes:\n",
            "\n",
            "[ EDA_S_Netzdrucker ] scanner liebe frau ileri das problem liegt darin , dass ich die option « mail » auf dem kopiergerät erst gar nicht öffnen kann ( diese funktion ist verschlüsselt , nicht das dokument , dass ich dann erhalten würde ) . ich habe sie , glaube ich , vorhin am telefon falsch verstanden , da nicht die gescannten/gesendeten dokumente verschlüsselt sind , sondern die optionen kopieren/scannen auf dem drucker ist verschlüsselt , d.h. ich kann diese funktion gar nicht öffnen . es kommt immer die meldung : « diese option ist eingeschränkt . versuchen sie , ein anderes konto zu verwenden oder wenden sie sich an den systemadministrator oder die person , die das gerät eingerichtet hat » . entschuldigen sie die umstände und das hin- und her . liebe grüsse\n",
            "\n",
            "[ EDA_ANW_CodX PostOffice ] benutzerberechtigung codx - mxm guten tag nach bern leider funktioniert bei mir das codx post office programm nicht . es erscheint immer wieder diese meldung . darf ich sie um unterstützung anfragen . ausserdem möchte ich gerne wissen , ob ein drucker hp laser jet p3015 welcher nicht am netz angeschlossen ist an meinen arbeitsplatz angeschlossen werden kann . darf ein drucker welcher nicht am netz angeschlossen noch benutzt werden ? besten dank für ihre hilfe . freundliche grüsse max muster pa of the ambassador embassy of switzerland in japan 0 1 2 3 minami azabu , minato-ku tokyo 0 1 2 3 japan tel . : +0 1 2 3 sent : monday , august 31 , 2020 5:50 pm to : subject : benutzerberechtigung codx - had guten tag frau hoyoz die benutzerberichtigung für das codx system wurde bei ihnen hinterlegt . sie sollten ab sofort die bordereau ’s im programm bestätigen können , wenn dies nicht der fall ist bitte ich sie dem eda helpdesk nachzufragen die gruppen \" g-p-a-codxpostoffice \" und \" g-p-oid-postoffice \" zu erhalten . anleitungen codx … deutsch : französisch : englisch : freundliche grüsse\n",
            "\n",
            "[ EDA_S_Arbeitsplatzdrucker ] stand alone printer sehr geehrte damen und herren herr luca urech , programmverantwortlicher syrien , möchte einen standalone-drucker für sich beantragen , da er täglich relativ sensible dokumente ausdrucken muss . es ist ihm bewusst , dass diese auf seinem computer durch den internet-anschluss bereits gefährdet sind . er möchte aber nicht zusätzlich risiken eingehen indem solche dokumente übers netz zum drucker geschickt werden . der antrag wird von seiner vorgesetzten unterstützt . falls fragen bestehen einfach schnell anrufen oder mailen . mit bestem dank und freundlichen grüsse\n",
            "\n",
            "[ EDA_ANW_ARIS (EDA Scout) ] a3-druck guten tag jeden tag , wenn ich das erste mal einen a3 format ab meinem programm aris drucke , wird erst format a4 vom drucker ausgegeben ( auf a3-papier ) , d.h. das format wird nicht der papiergrösse angepasst . sobald ich ein weiteres mal auf druck drücke , kommt es korrekt angepasst auf a3 . ich habe folgende einstellungen : ist dies eine einstellungssache ? was müsste ich zusätzlich einstellen ? herzlichen dank für ihr feedback . liebe grüsse\n",
            "\n",
            "\n",
            "Merge: 7\n",
            "\n",
            "['EDA_ANW_IAM Tool EDA', 'EDA_ANW_at Honorarvertretung', 'EDA_ANW_eVERA', 'EDA_ANW_EDA PWC Tool', 'EDA_ANW_MOVE!', 'EDA_ANW_Plato-HH']\n",
            "\n",
            "Examples of these email classes:\n",
            "\n",
            "[ EDA_ANW_IAM Tool EDA ] problem mit iam tool liebe kollegin , lieber kollege heute vormittag habe ich meiner kollegin meinen sonja meo den zugriff auf die rh-datenbank erteilt . im iam-tool erscheint sie als member ( siehe abbildung ) . dennoch kann sie bis jetzt auf die datenbank zugreifen . könnten sie bitte abklären , ob es ein problem mit dem iam-tool gibt ? sonja meinen ist als verstärkung zu unserem team gestossen , doch kann sie ohne zugriff auf die datenbank nicht arbeiten . herzlichen dank\n",
            "\n",
            "[ EDA_ANW_at Honorarvertretung ] neuer honorarkonsul in toulouse die login-daten sind an den sa in marseille zu senden . freundliche grüsse\n",
            "\n",
            "[ EDA_ANW_eVERA ] abfrage sehr geehrte damen und herren wenn ich die ripol abfrage machen möchte , kommt immer folgende meldung : ich kann mich beim isa etc. einloggen , nur bei evera funktioniert es nicht ( vission+ ebenfalls , aber dort habe ich die möglichkeit mit dem windows login fortzufahren ) . vielen dank für ihre kenntnisnahme . freundliche grüsse\n",
            "\n",
            "[ EDA_ANW_EDA PWC Tool ] password reset tool liebe kolleginnen und kollegen ich wollte heute das pwrt benützen , um mein eigenes passwort zurückzusetzen . ich muss mein altes windows passwort wechseln , welches sich nach dem umzug astana – seoul leider verflüchtigt hat . es hat sich nun herausgestellt , dass das pwrt weder bei mir noch bei marie-josé borghini ( sa ) funktioniert . gibt es einen neuen link ? wenn ja , wäre ich ihnen um zustellung dankbar . ich habe noch 10 tage zeit , um das pw zu ändern – demnach keine eile . besten dank für ihre bemühungen und mit freundlichen grüsse\n",
            "\n",
            "[ EDA_ANW_MOVE! ] workflow nicht sichtbar guten tag werte kolleginnen und kollegen ich habe in flow über home herrn raoul.imbach erfasst . der datensatz ist unter cockpits / workflows aber nicht ersichtlich . können sie mir helfen ? vielen dank und freundliche grüsse\n",
            "\n",
            "[ EDA_ANW_Plato-HH ] berechtigung plato-hh hallo zusammen ich benötige für meine arbeiten zugriff auf das plato-hh . können sie mir bitte die berechtigung geben . mit freundlichen grüsse\n",
            "\n",
            "\n",
            "Merge: 8\n",
            "\n",
            "['EDA_ANW_EDAContacts', 'EDA_ANW_ORBIS', 'EDA_ANW_ITDoc Sharepoint', 'EDA_ANW_NOS:4', 'EDA_ANW_Reisehinweise', 'EDA_ANW_FDFA Security App']\n",
            "\n",
            "Examples of these email classes:\n",
            "\n",
            "[ EDA_ANW_EDAContacts ] kontaktdaten von whatsapp sehr geehrte damen und herren , guten tag botschafterin monika schmutz kirgöz verfügt eine beträchtliche anzahl kontaktdaten in ihrem whatsapp , die wir nun in edacontacts einpflegen sollten . hätten sie ev. einen tipp , wie wir diese daten ohne grösseren aufwand aus whatsapp kopieren könnten ? danke vielmals für ihre bemühungen . stay safe und freundliche grüsse\n",
            "\n",
            "[ EDA_ANW_ORBIS ] bangkok : fehlermeldung mxm bei den meisten mitarbeitern ( visa entscheider ) sehr geehrte damen und herren die visa-entscheider melden probleme beim erteilen der visa . visa d : es geht nicht weiter visa c : eine fehlermeldung sis kommt , es kann jedoch erteilt werden die obigen muster sind von herrn pascal wenger ; frau katharina schär villaro kann erstaunlicherweise visa erteilen ; 3 weitere entscheider können ebenfalls wie herr wenger nicht erteilen . danke sich der sache anzunehmen , freundliche grüsse\n",
            "\n",
            "[ EDA_ANW_ITDoc Sharepoint ] muster max eda mxm möchte auf ' testaccounts freiburgstrasse 0 1 2 3 ' zugreifen . hallo zusammen ich habe über die smartcard-office-mailbox unten stehendes mail zur genehmigung erhalten . leider bin ich selber auf dieser seite nicht berechtigt ( auch die anderen personen vom sc office nicht ) und ich weiss auch nicht , was das für eine seite ist . da für die seite aber die smartcard-mailbox als genehmiger hinterlegt ist , gehe ich davon aus , dass mich die seite etwas angeht . ? könnt ihr mir bitte ein ticket für it entwicklung erstellen , damit sie mich berechtigen können ? vielen sent : tuesday , september 24 , 2019 10:56 am to : subject : muster max eda wpm möchte auf ' testaccounts freiburgstrasse 0 1 2 3 ' zugreifen . ich bräuchte zugriff für terminreservation diese anforderung annehmen oder keine lust mehr , anforderungen zu genehmigen ? mitgliedern das freigeben ohne anforderung der besitzergenehmigung\n",
            "\n",
            "[ EDA_ANW_NOS:4 ] nos problem wieder aufgetaucht lieber thomas , lieber oliver das nos problem vom januar ist wieder da . damals ist oliver involviert gewesen , deshalb schreibe ich dich auch an : ein fenster öffnet sich in irgend einem für uns unsichtbaren raum und wir können nicht mehr aufs system zugreifen . es betrifft interessanterweise nur ein ganz bestimmtes fenster , andere fenster erscheinen auf unserem bildschirm . ( das problem besteht sporadisch immer mal wieder , seit wir mit dem neuen laptop latitude 0 1 2 3 und mit 2 bildschirmen arbeiten , hat sich bis jetzt jedoch immer von selbst wieder gelöst . jetzt scheint es mir gröber . ) protokoll : gestern ist es bei sandra gentizon gtz ( zuletzt getestet gestern um 9.50 uhr ) und manuela schumacher suu ( heute morgen zuletzt getestet um 7.03 uhr ) aufgetaucht . heute habe ich es auch ( teste seit 8.45 uhr verschiedene settings ) . bis anhin hatte jeweils nur eine person dieses problem , so dass das tagesgeschäft von jemand anderem erledigt werden konnte . dieses mal betrifft und blockiert es alle . ich bin heute den ganzen tag im büro a1302 , könnte jemand vorbeikommen/mich kontaktieren um sich das problem anzusehen ? vielen dank ! beste grüsse\n",
            "\n",
            "[ EDA_ANW_Reisehinweise ] reisehinweise-datenbank ist blockiert guten tag wir können uns heute morgen nicht in unsere datenbank anmelden . es erscheint die nachstehende fehlermeldung . können sie bitte das problem möglichst rasch beheben ? wir müssen heute mehrere reisehinweise publizieren . freundliche grüsse und im voraus vielen dank esther leupp esther leupp leiterin reisehinweise eidgenössisches departement für auswärtige angelegenheiten eda staatssekretariat krisenmanagement-zentrum effingerstr . 27 , 0 1 2 3 bern tel . : +0 1 2 3 / folg\n",
            "\n",
            "[ EDA_ANW_FDFA Security App ] support > security fdfa app installation guten tag , ich habe die aufgabe , in unserer vertretung in rabat , marokko das erwähnte app auf das handy der mitarbeitenden zu installieren und befolge die beiden dafür vorgesehenen anleitungen . bei einigen personen erscheint nach erfolgreicher installation des apps auf dem mobiltelefon beim content download ( nach der eingabe der credentials für den idm-account ) die folgende seite auf dem gerät ( s. anhang ) und hindert damit die fertigstellung des downloads . dies ist bei privaten & geschäftlichen mobiltel . der fall . bei mir habe ich das app ohne probleme auf privatem & geschäftlichen gerät installieren können – mit dem idm-account mit meiner geschäftlichen mailadresse ( ich habe ebenfalls einen idm-account mit meiner privaten e-mailadresse ) . können sie mir einen support für das app geben ? hat jemand erfahrungen bei ihnen ? herzlichen dank und freundliche grüsse\n",
            "\n",
            "\n",
            "Merge: 9\n",
            "\n",
            "['EDA_ANW_Internet EDA', 'EDA_ANW_EDAssist+']\n",
            "\n",
            "Examples of these email classes:\n",
            "\n",
            "[ EDA_ANW_Internet EDA ] delhi : webseite des mxm nicht mehr aktiv guten morgen leider ist die webseite des bag nicht mehr aktiv , bzw. ich kann diese nicht mehr öffnen . ist dies auf ueberlastung zurückzuführen ? diese webseite ist essentiell für mich zum beantworten der anfragen von schweizer bürgern ! besten dank für ihre rückmeldung und freundliche grüsse\n",
            "\n",
            "[ EDA_ANW_EDAssist+ ] zugriff edassist+ mxm liebes helpdesk team wir haben zurzeit einen konsularischen fall und meine mitarbeiterin frau max muster fsp benötigt so rasch wie möglich den zugriff zu edassist+ . mit der umstellung zum neuen format hat frau muster den zugriff verloren . danke für die erteilung des zugriffs an fsp freundliche grüsse\n",
            "\n",
            "\n",
            "Merge: 10\n",
            "\n",
            "['EDA_S_IT Sicherheit', 'EDA_S_BA_Mailbox', 'EDA_ANW_Zentrale Raumreservation EDA']\n",
            "\n",
            "Examples of these email classes:\n",
            "\n",
            "[ EDA_S_IT Sicherheit ] benutzerkonto-ablaufdatumswarnung guten morgen , ich habe die beiden emails unten erhalten und habe zweifel , dass sie echt sind . könnten sie mich bitte informieren , wie ich mit diesen emails verfahren soll . mit grüsse from : filetransfer service notification sent : monday , october 26 , 2020 11:01 am to : subject : warnung bzgl. kennwortverfall ihr kennwort läuft bald ab das kennwort muss alle 0 1 2 3 tage geändert werden . ihr kennwort läuft in 6 tagen ab . bitte verwenden sie die folg\n",
            "\n",
            "[ EDA_S_BA_Mailbox ] überfüllte mailbox sehr geehrte damen und herren seit längerer zeit habe ich das problem , dass meine mailbox chronisch überfüllt ist . ich habe festgestellt , dass meine mails , auch wenn ich sie ins archiv ziehe immer noch in der inbox bleiben und diese verstopfen . was kann man dagegen tun ? besten dank\n",
            "\n",
            "[ EDA_ANW_Zentrale Raumreservation EDA ] outlook raumreservation guten tag , in meinem outlook ist die funktion zur raumreservation verschwunden . ich habe dann die applikation « estate outlook addin 2016 » im software center desinstalliert und neu installiert , inkl. restart des pc . das hat aber leider nicht funktioniert . können sie mir weiterhelfen ? besten dank und freundliche grüsse\n",
            "\n",
            "\n"
          ]
        }
      ],
      "execution_count": 158,
      "metadata": {
        "collapsed": true,
        "jupyter": {
          "source_hidden": false,
          "outputs_hidden": false
        },
        "nteract": {
          "transient": {
            "deleting": false
          }
        },
        "gather": {
          "logged": 1605964599580
        }
      }
    },
    {
      "cell_type": "code",
      "source": [],
      "outputs": [],
      "execution_count": null,
      "metadata": {
        "collapsed": true,
        "jupyter": {
          "source_hidden": false,
          "outputs_hidden": false
        },
        "nteract": {
          "transient": {
            "deleting": false
          }
        },
        "gather": {
          "logged": 1605950954296
        }
      }
    },
    {
      "cell_type": "code",
      "source": [],
      "outputs": [],
      "execution_count": null,
      "metadata": {
        "collapsed": true,
        "jupyter": {
          "source_hidden": false,
          "outputs_hidden": false
        },
        "nteract": {
          "transient": {
            "deleting": false
          }
        },
        "gather": {
          "logged": 1605922555284
        }
      }
    },
    {
      "cell_type": "code",
      "source": [],
      "outputs": [],
      "execution_count": 127,
      "metadata": {
        "collapsed": true,
        "jupyter": {
          "source_hidden": false,
          "outputs_hidden": false
        },
        "nteract": {
          "transient": {
            "deleting": false
          }
        },
        "gather": {
          "logged": 1605928439594
        }
      }
    },
    {
      "cell_type": "code",
      "source": [],
      "outputs": [],
      "execution_count": null,
      "metadata": {
        "collapsed": true,
        "jupyter": {
          "source_hidden": false,
          "outputs_hidden": false
        },
        "nteract": {
          "transient": {
            "deleting": false
          }
        },
        "gather": {
          "logged": 1605928448204
        }
      }
    },
    {
      "cell_type": "code",
      "source": [
        "\n"
      ],
      "outputs": [],
      "execution_count": 106,
      "metadata": {
        "collapsed": true,
        "jupyter": {
          "source_hidden": false,
          "outputs_hidden": false
        },
        "nteract": {
          "transient": {
            "deleting": false
          }
        },
        "gather": {
          "logged": 1605954605292
        }
      }
    },
    {
      "cell_type": "code",
      "source": [],
      "outputs": [],
      "execution_count": null,
      "metadata": {
        "collapsed": true,
        "jupyter": {
          "source_hidden": false,
          "outputs_hidden": false
        },
        "nteract": {
          "transient": {
            "deleting": false
          }
        }
      }
    }
  ],
  "metadata": {
    "kernelspec": {
      "name": "python3-azureml",
      "language": "python",
      "display_name": "Python 3.6 - AzureML"
    },
    "language_info": {
      "name": "python",
      "version": "3.6.9",
      "mimetype": "text/x-python",
      "codemirror_mode": {
        "name": "ipython",
        "version": 3
      },
      "pygments_lexer": "ipython3",
      "nbconvert_exporter": "python",
      "file_extension": ".py"
    },
    "kernel_info": {
      "name": "python3-azureml"
    },
    "nteract": {
      "version": "nteract-front-end@1.0.0"
    }
  },
  "nbformat": 4,
  "nbformat_minor": 2
}